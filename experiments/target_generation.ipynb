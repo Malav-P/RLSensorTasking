{
 "cells": [
  {
   "cell_type": "markdown",
   "metadata": {},
   "source": [
    "This example aims to have two target orbits, and one observer orbit. The observer is tasked with monitoring the two targets to minimize the trace covariance of the state over the simulation horizon. We use a PPO agent that is rewarded for minimizing the trace covariance of the target states to the best of its ability."
   ]
  },
  {
   "cell_type": "code",
   "execution_count": 1,
   "metadata": {},
   "outputs": [],
   "source": [
    "import sys\n",
    "sys.path.append(\"../src\")\n",
    "\n",
    "import numpy as np\n",
    "import matplotlib.pyplot as plt\n",
    "from data_util.target_generation import TargetGenerator"
   ]
  },
  {
   "cell_type": "code",
   "execution_count": 2,
   "metadata": {},
   "outputs": [],
   "source": [
    "# L2 Halo orbit, period = 3.225 TU  (Target orbit)\n",
    "x0_1 = np.array([\n",
    "        1.1540242813087864,\n",
    "        0.0,\n",
    "        -0.1384196144071876,\n",
    "        4.06530060663289e-15,\n",
    "        -0.21493019200956867,\n",
    "        8.48098638414804e-15\n",
    "    ])\n",
    "\n",
    "# L1 lyapunov, period = 3.225 TU (target orbit)\n",
    "x0_2 = np.array([\n",
    "        0.8027692908754149,\n",
    "        0.0,\n",
    "        0.0,\n",
    "        -1.1309830924549648e-14,\n",
    "        0.33765564334938736,\n",
    "        0.0\n",
    "    ])\n",
    "\n",
    "\n",
    "# 1:1 L2 Lyapunov, period = 6.45 TU (observer orbit)\n",
    "x0_3 = np.array([\n",
    "        0.9982702689023665,\n",
    "        0.0,\n",
    "        0.0,\n",
    "        -2.5322340091977996e-14,\n",
    "        1.5325475708886613,\n",
    "        0.0\n",
    "    ])\n",
    "\n",
    "# 2:1 Resonant, period = 6.45 TU\n",
    "x0_4 = np.array([\n",
    "        0.9519486347314083,\n",
    "        0.0,\n",
    "        0.0,\n",
    "        0.0,\n",
    "        -0.952445273435512,\n",
    "        0.0\n",
    "    ])\n",
    "\n",
    "# 3:1 Resonant, period = 6.45 TY\n",
    "x0_5 = np.array([\n",
    "        0.13603399956670137,\n",
    "        0.0,\n",
    "        0.0,\n",
    "        1.9130717669166003e-12,\n",
    "        3.202418276067991,\n",
    "        0.0\n",
    "    ])\n",
    "\n",
    "# 1:1 L1 Lyapunov, period = 6.45 TU\n",
    "x0_6 = np.array([\n",
    "        0.65457084231188,\n",
    "        0.0,\n",
    "        0.0,\n",
    "        3.887957091335523e-13,\n",
    "        0.7413347560791179,\n",
    "        0.0\n",
    "    ])\n"
   ]
  },
  {
   "cell_type": "code",
   "execution_count": 3,
   "metadata": {},
   "outputs": [],
   "source": [
    "tg = TargetGenerator([x0_1, x0_2, x0_3, x0_4, x0_5, x0_6], periods=[3.225, 3.225, 6.45, 6.45, 6.45, 6.45])"
   ]
  },
  {
   "cell_type": "code",
   "execution_count": null,
   "metadata": {},
   "outputs": [],
   "source": [
    "out = tg.gen_phased_ics(catalog_ID=0, num_targets=3)\n",
    "out[1]"
   ]
  },
  {
   "cell_type": "code",
   "execution_count": null,
   "metadata": {},
   "outputs": [],
   "source": [
    "tt = np.linspace(0, 1*tg.periods[0], 300)\n",
    "data_spl = out[0][\"spline\"](tt)\n",
    "stm_spl = out[0][\"stm_spline\"](tt)\n",
    "\n",
    "plt.figure(6)\n",
    "plt.clf()\n",
    "plt.xlabel(\"time (TU)\")\n",
    "plt.ylabel(\"position (LU)\")\n",
    "# plt.plot(data[:, 0], data[:, 1:4], label = [\"x\", \"y\", \"z\"])\n",
    "plt.plot(tt, data_spl[:, :3], label = [\"x_spl\", \"y_spl\", \"z_spl\"], linestyle = \"--\", linewidth = 2.0)\n",
    "plt.legend()\n",
    "plt.show()"
   ]
  },
  {
   "cell_type": "code",
   "execution_count": null,
   "metadata": {},
   "outputs": [],
   "source": [
    "ax = plt.figure(7).add_subplot()\n",
    "\n",
    "# Prepare arrays x, y, z\n",
    "\n",
    "ax.plot(data_spl[:, 0], data_spl[:, 1], label='l2 halo')\n",
    "ax.set_xlabel('x (DU)')\n",
    "ax.set_ylabel('y (DU)')\n",
    "\n",
    "out = tg.gen_phased_ics(catalog_ID=1, num_targets=4)\n",
    "tt = np.linspace(0, 1*tg.periods[1], 300)\n",
    "data_spl = out[0][\"spline\"](tt)\n",
    "stm_spl = out[0][\"stm_spline\"](tt)\n",
    "\n",
    "ax.plot(data_spl[:, 0], data_spl[:, 1], label='l1 lyapunov')\n",
    "ax.legend()\n",
    "\n",
    "plt.tight_layout()\n",
    "plt.show()"
   ]
  },
  {
   "cell_type": "code",
   "execution_count": null,
   "metadata": {},
   "outputs": [],
   "source": [
    "out[3]"
   ]
  },
  {
   "cell_type": "code",
   "execution_count": null,
   "metadata": {},
   "outputs": [],
   "source": [
    "vals = np.linalg.eigvals(stm_spl[-1].reshape(6, 6))\n",
    "vals"
   ]
  }
 ],
 "metadata": {
  "kernelspec": {
   "display_name": "sensortask",
   "language": "python",
   "name": "python3"
  },
  "language_info": {
   "codemirror_mode": {
    "name": "ipython",
    "version": 3
   },
   "file_extension": ".py",
   "mimetype": "text/x-python",
   "name": "python",
   "nbconvert_exporter": "python",
   "pygments_lexer": "ipython3",
   "version": "3.12.3"
  }
 },
 "nbformat": 4,
 "nbformat_minor": 2
}
