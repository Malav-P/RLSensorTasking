{
 "cells": [
  {
   "cell_type": "code",
   "execution_count": 4,
   "metadata": {},
   "outputs": [],
   "source": [
    "import sys\n",
    "sys.path.append(\"../src\")\n",
    "\n",
    "import numpy as np\n",
    "import matplotlib.pyplot as plt\n",
    "\n",
    "from SensorTasking import KalmanFilter, Dynamics\n",
    "from data_util.cr3bp import cr3bp, jac_cr3bp"
   ]
  },
  {
   "cell_type": "code",
   "execution_count": 5,
   "metadata": {},
   "outputs": [],
   "source": [
    "mu = 1.215058560962404e-02\n",
    "x0 = np.array([1.1540242813087864,\n",
    "        -2.4170502654082446e-28,\n",
    "        -0.1384196144071876,\n",
    "        4.06530060663289e-15,\n",
    "        -0.21493019200956867,\n",
    "        8.48098638414804e-15])\n",
    "\n",
    "# x0 = np.array([\n",
    "#         0.8027692908754149,\n",
    "#         0.0,\n",
    "#         0.0,\n",
    "#         -1.1309830924549648e-14,\n",
    "#         0.33765564334938736,\n",
    "#         0.0\n",
    "#     ])\n",
    "P0 = 0.0001*np.eye(6)\n",
    "\n",
    "timestep = 0.015\n"
   ]
  },
  {
   "cell_type": "code",
   "execution_count": 6,
   "metadata": {},
   "outputs": [],
   "source": [
    "my_filter = KalmanFilter(timestep=timestep, xof=x0, Pof=P0, func=cr3bp, jac=jac_cr3bp, f_params =(mu,), jac_params=(mu,))\n",
    "truth = Dynamics(x0=x0, tstep=timestep, f=cr3bp, jac=jac_cr3bp, f_params=[mu], jac_params=[mu])"
   ]
  },
  {
   "cell_type": "code",
   "execution_count": 7,
   "metadata": {},
   "outputs": [],
   "source": [
    "def some_function(truth, num_observers = 3):\n",
    "\n",
    "    if num_observers == 0:\n",
    "        Z, R_invs = (None, None)\n",
    "    \n",
    "    else:\n",
    "\n",
    "        dim = truth.shape[0]\n",
    "\n",
    "        R_invs = np.zeros(shape=(dim, dim, num_observers))\n",
    "        Z = np.zeros(shape=(dim, num_observers))\n",
    "\n",
    "        for i in range(3):\n",
    "            R_invs[i, i, :] = 1/(0.001**2)   # positional uncertaintiy of +- 384 km (VERY CONSERVATIVE, most sensor can do better)\n",
    "            R_invs[3 + i, 3 + i, :] = 1/(0.01**2) # velocity uncertainty ~ +- 0.01 km/s\n",
    "\n",
    "        Z_transpose = np.array([truth.x + np.random.multivariate_normal(mean=np.zeros(dim), cov=np.linalg.inv(R_invs[:,:,j])) for j in range(num_observers)])\n",
    "        Z = Z_transpose.T\n",
    "\n",
    "    return Z, R_invs"
   ]
  },
  {
   "cell_type": "code",
   "execution_count": 8,
   "metadata": {},
   "outputs": [],
   "source": [
    "my_filter.reset()\n",
    "truth.reset()\n",
    "steps_=800\n",
    "state_history = np.zeros(shape=(6, steps_))\n",
    "tr_cov_history = np.zeros(steps_)\n",
    "true_history = np.zeros_like(state_history)\n",
    "\n",
    "for i in range(steps_):\n",
    "    \n",
    "    # if np.trace(my_filter.P) >= 0.01: # if uncertainty exceeds ball of radius ~ 384 km ... need measurement\n",
    "    #     Z, R_invs = some_function(truth, num_observers=1)\n",
    "    # else:\n",
    "    #     Z, R_invs = (None, None)\n",
    "    Z, R_invs = some_function(truth, num_observers=1)\n",
    "    # Z, R_invs = (None, None)\n",
    "\n",
    "    my_filter.propagate(Z, R_invs)\n",
    "    \n",
    "    truth.propagate(steps=1)\n",
    "\n",
    "    state_history[:,i] = my_filter.x\n",
    "    tr_cov_history[i] = np.trace(my_filter.P)\n",
    "    true_history[:,i] = truth.x"
   ]
  },
  {
   "cell_type": "code",
   "execution_count": null,
   "metadata": {},
   "outputs": [],
   "source": [
    "plt.figure()\n",
    "plt.plot(np.arange(0, true_history.shape[1]), true_history[0,:], linewidth=0.75, color=\"black\", linestyle = \"--\", label = \"truth\")\n",
    "plt.plot(np.arange(0, state_history.shape[1]), state_history[0,:], linewidth=1, color=\"red\", label=\"state\")\n",
    "plt.xlabel(\"timestep\")\n",
    "plt.ylabel(\"state\")\n",
    "plt.legend()\n",
    "plt.show()"
   ]
  },
  {
   "cell_type": "code",
   "execution_count": null,
   "metadata": {},
   "outputs": [],
   "source": [
    "plt.figure()\n",
    "plt.plot(np.arange(0, tr_cov_history.size), tr_cov_history, marker='.', color=\"black\", linewidth=0.5)"
   ]
  },
  {
   "cell_type": "code",
   "execution_count": null,
   "metadata": {},
   "outputs": [],
   "source": []
  }
 ],
 "metadata": {
  "kernelspec": {
   "display_name": "Python 3",
   "language": "python",
   "name": "python3"
  },
  "language_info": {
   "codemirror_mode": {
    "name": "ipython",
    "version": 3
   },
   "file_extension": ".py",
   "mimetype": "text/x-python",
   "name": "python",
   "nbconvert_exporter": "python",
   "pygments_lexer": "ipython3",
   "version": "3.12.3"
  }
 },
 "nbformat": 4,
 "nbformat_minor": 2
}
