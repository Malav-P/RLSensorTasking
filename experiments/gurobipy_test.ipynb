{
 "cells": [
  {
   "cell_type": "code",
   "execution_count": null,
   "metadata": {},
   "outputs": [],
   "source": [
    "%matplotlib widget\n",
    "import gurobipy as gp\n",
    "from gurobipy import GRB\n",
    "\n",
    "# Create a new model\n",
    "model = gp.Model(\"test_model\")\n",
    "\n",
    "# Add variables\n",
    "x = model.addVar(vtype=GRB.CONTINUOUS, name=\"x\")\n",
    "y = model.addVar(vtype=GRB.CONTINUOUS, name=\"y\")\n",
    "\n",
    "# Set the objective function: Minimize 3x + 4y\n",
    "model.setObjective(3 * x + 4 * y, GRB.MINIMIZE)\n",
    "\n",
    "# Add constraints: \n",
    "# x + 2y >= 14\n",
    "# 3x - y <= 0\n",
    "# x - y >= 2\n",
    "model.addConstr(x + 2 * y >= 14, \"c0\")\n",
    "model.addConstr(3 * x - y <= 0, \"c1\")\n",
    "\n",
    "# Optimize the model\n",
    "model.optimize()\n",
    "\n",
    "# Display the results\n",
    "if model.status == GRB.OPTIMAL:\n",
    "    print(f'Optimal solution found:\\n x = {x.X}, y = {y.X}')\n",
    "    print(f'Objective value: {model.ObjVal}')\n",
    "else:\n",
    "    print(\"No optimal solution found.\")\n"
   ]
  },
  {
   "cell_type": "code",
   "execution_count": null,
   "metadata": {},
   "outputs": [],
   "source": []
  }
 ],
 "metadata": {
  "kernelspec": {
   "display_name": "sensortask",
   "language": "python",
   "name": "python3"
  },
  "language_info": {
   "codemirror_mode": {
    "name": "ipython",
    "version": 3
   },
   "file_extension": ".py",
   "mimetype": "text/x-python",
   "name": "python",
   "nbconvert_exporter": "python",
   "pygments_lexer": "ipython3",
   "version": "3.12.7"
  }
 },
 "nbformat": 4,
 "nbformat_minor": 2
}
