{
 "cells": [
  {
   "cell_type": "markdown",
   "metadata": {},
   "source": [
    "This example aims to have two target orbits, and one observer orbit. The observer is tasked with monitoring the two targets to minimize the trace covariance of the state over the simulation horizon. We use a PPO agent that is rewarded for minimizing the trace covariance of the target states to the best of its ability."
   ]
  },
  {
   "cell_type": "code",
   "execution_count": 1,
   "metadata": {},
   "outputs": [],
   "source": [
    "%matplotlib widget\n",
    "import sys\n",
    "sys.path.append(\"../src\")\n",
    "\n",
    "import os\n",
    "import dill\n",
    "import numpy as np\n",
    "import numpy.matlib\n",
    "import matplotlib.pyplot as plt\n",
    "\n",
    "from SensorTasking import SpaceEnv, run_myopic_policy, func\n",
    "from SensorTasking.observation_model import DummyModel, ApparentMag\n",
    "from SensorTasking.observation_spaces import Type1, Type2\n",
    "\n",
    "from data_util.target_generation import TargetGenerator\n",
    "\n",
    "from stable_baselines3.common.env_checker import check_env"
   ]
  },
  {
   "cell_type": "code",
   "execution_count": 2,
   "metadata": {},
   "outputs": [],
   "source": [
    "# mass parameter of earth-moon system\n",
    "mu = 1.215058560962404e-02\n",
    "# apparent magnitude of sun\n",
    "ms = -26.4\n",
    "# specular reflection coefficient\n",
    "aspec = 0\n",
    "# diffuse reflection coefficient\n",
    "adiff = 0.2\n",
    "# diameter of target (LU)\n",
    "d = 0.001 / 384400\n",
    "# earth radius (LU)\n",
    "rearth = 6371 / 384400\n",
    "# moon radius (LU)\n",
    "rmoon = 1737.4 / 384400\n",
    "\n",
    "params = {\n",
    "    \"mu\":mu,\n",
    "    \"ms\":ms,\n",
    "    \"aspec\":aspec,\n",
    "    \"adiff\":adiff,\n",
    "    \"d\":d,\n",
    "    \"rearth\":rearth,\n",
    "    \"rmoon\":rmoon\n",
    "}\n",
    "\n",
    "# L2 Halo orbit, period = 3.225 TU  (Target orbit)\n",
    "x0_1 = np.array([\n",
    "        1.1540242813087864,\n",
    "        0.0,\n",
    "        -0.1384196144071876,\n",
    "        4.06530060663289e-15,\n",
    "        -0.21493019200956867,\n",
    "        8.48098638414804e-15\n",
    "    ])\n",
    "\n",
    "# L1 lyapunov, period = 3.225 TU (target orbit)\n",
    "x0_2 = np.array([\n",
    "        0.8027692908754149,\n",
    "        0.0,\n",
    "        0.0,\n",
    "        -1.1309830924549648e-14,\n",
    "        0.33765564334938736,\n",
    "        0.0\n",
    "    ])\n",
    "\n",
    "\n",
    "# 1:1 L2 Lyapunov, period = 6.45 TU (observer orbit)\n",
    "x0_3 = np.array([\n",
    "        0.9982702689023665,\n",
    "        0.0,\n",
    "        0.0,\n",
    "        -2.5322340091977996e-14,\n",
    "        1.5325475708886613,\n",
    "        0.0\n",
    "    ])\n",
    "\n"
   ]
  },
  {
   "cell_type": "code",
   "execution_count": 3,
   "metadata": {},
   "outputs": [],
   "source": [
    "splines = []\n",
    "splines.append(dill.load(open(f\"../data/splines/l2halo_spl.pickle\", \"rb\")))\n",
    "splines.append(dill.load(open(f\"../data/splines/l1lyap_spl.pickle\", \"rb\")))\n",
    "tg = TargetGenerator([x0_1, x0_2], periods=[3.225, 3.225], splines = splines)\n",
    "\n",
    "splines = [dill.load(open(f\"../data/splines/l2lyap_spl.pickle\", \"rb\"))]\n",
    "ag = TargetGenerator([x0_3], periods = [6.45], splines=splines)"
   ]
  },
  {
   "cell_type": "code",
   "execution_count": 4,
   "metadata": {},
   "outputs": [],
   "source": [
    "log_dir = \"/Users/malavpatel/Research/SensorTasking/tmp/gym/\"\n",
    "os.makedirs(log_dir, exist_ok=True)"
   ]
  },
  {
   "cell_type": "code",
   "execution_count": 5,
   "metadata": {},
   "outputs": [],
   "source": [
    "targets = tg.gen_phased_ics([1,1], gen_P=True)\n",
    "agents = ag.gen_phased_ics([1], gen_P=False)\n",
    "maxsteps = 215\n",
    "tstep = 0.030\n",
    "# obs_model = ApparentMag(params, tstep, sun_phasing=np.pi/2)\n",
    "obs_model = DummyModel()\n",
    "obs_class = Type1()\n",
    "policytype = \"MultiInputPolicy\"\n",
    "\n",
    "env = SpaceEnv(agents, targets, obs_model, maxsteps, tstep, obs_class=obs_class)\n",
    "\n",
    "check_env(env)\n"
   ]
  },
  {
   "cell_type": "code",
   "execution_count": 14,
   "metadata": {},
   "outputs": [],
   "source": [
    "x = np.array([np.pi])\n",
    "y = numpy.matlib.repmat([ [2], [1], [1], [2]], 54, 1)"
   ]
  },
  {
   "cell_type": "code",
   "execution_count": 15,
   "metadata": {},
   "outputs": [
    {
     "name": "stdout",
     "output_type": "stream",
     "text": [
      "terminated episode\n"
     ]
    },
    {
     "data": {
      "text/plain": [
       "-0.010779093989143534"
      ]
     },
     "execution_count": 15,
     "metadata": {},
     "output_type": "execute_result"
    }
   ],
   "source": [
    "func(x, y, env)"
   ]
  }
 ],
 "metadata": {
  "kernelspec": {
   "display_name": "Python 3",
   "language": "python",
   "name": "python3"
  },
  "language_info": {
   "codemirror_mode": {
    "name": "ipython",
    "version": 3
   },
   "file_extension": ".py",
   "mimetype": "text/x-python",
   "name": "python",
   "nbconvert_exporter": "python",
   "pygments_lexer": "ipython3",
   "version": "3.11.6"
  }
 },
 "nbformat": 4,
 "nbformat_minor": 2
}
