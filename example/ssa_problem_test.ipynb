{
 "cells": [
  {
   "cell_type": "markdown",
   "metadata": {},
   "source": [
    "This example aims to have two target orbits, and one observer orbit. The observer is tasked with monitoring the two targets to minimize the trace covariance of the state over the simulation horizon. We use a PPO agent that is rewarded for minimizing the trace covariance of the target states to the best of its ability."
   ]
  },
  {
   "cell_type": "code",
   "execution_count": 2,
   "metadata": {},
   "outputs": [],
   "source": [
    "%matplotlib widget\n",
    "import sys\n",
    "sys.path.append(\"../src\")\n",
    "\n",
    "import numpy as np\n",
    "import matplotlib.pyplot as plt\n",
    "\n",
    "from SensorTasking.ssa_problem import SSA_Problem\n",
    "from plotting import visualize_info_vs_phase, render"
   ]
  },
  {
   "cell_type": "code",
   "execution_count": null,
   "metadata": {},
   "outputs": [],
   "source": [
    "# L2 Halo orbit, period = 3.225 TU  (Target orbit)\n",
    "x0_1 = np.array([\n",
    "        1.1540242813087864,\n",
    "        0.0,\n",
    "        -0.1384196144071876,\n",
    "        4.06530060663289e-15,\n",
    "        -0.21493019200956867,\n",
    "        8.48098638414804e-15\n",
    "    ])\n",
    "\n",
    "# L1 lyapunov, period = 3.225 TU (target orbit)\n",
    "x0_2 = np.array([\n",
    "        0.8027692908754149,\n",
    "        0.0,\n",
    "        0.0,\n",
    "        -1.1309830924549648e-14,\n",
    "        0.33765564334938736,\n",
    "        0.0\n",
    "    ])\n",
    "\n",
    "\n",
    "# 1:1 L2 Lyapunov, period = 6.45 TU (observer orbit)\n",
    "x0_3 = np.array([\n",
    "        0.9982702689023665,\n",
    "        0.0,\n",
    "        0.0,\n",
    "        -2.5322340091977996e-14,\n",
    "        1.5325475708886613,\n",
    "        0.0\n",
    "    ])\n",
    "\n",
    "# 1:1 L1 Lyapunov, period = 6.45 TU (observer orbit)\n",
    "x0_4 = np.array([\n",
    "            0.65457084231188,\n",
    "        0.0,\n",
    "        0.0,\n",
    "        3.887957091335523e-13,\n",
    "        0.7413347560791179,\n",
    "        0.0\n",
    "])\n",
    "\n",
    "\n",
    "# 2:1 Resonant, period = 6.45 TU\n",
    "x0_5 = np.array([\n",
    "        0.9519486347314083,\n",
    "        0.0,\n",
    "        0.0,\n",
    "        0.0,\n",
    "        -0.952445273435512,\n",
    "        0.0\n",
    "    ])\n",
    "\n",
    "# 3:1 Resonant, period = 6.45 TY\n",
    "x0_6 = np.array([\n",
    "        0.13603399956670137,\n",
    "        0.0,\n",
    "        0.0,\n",
    "        1.9130717669166003e-12,\n",
    "        3.202418276067991,\n",
    "        0.0\n",
    "    ])\n",
    "\n"
   ]
  },
  {
   "cell_type": "code",
   "execution_count": null,
   "metadata": {},
   "outputs": [],
   "source": [
    "prob = SSA_Problem(target_ics=[x0_1, x0_2], target_periods=[3.225, 3.225], agent_ics=[x0_4, x0_5], agent_periods=[ 6.45,6.45])"
   ]
  },
  {
   "cell_type": "code",
   "execution_count": null,
   "metadata": {},
   "outputs": [],
   "source": [
    "plt.figure(1)\n",
    "phases = np.linspace(0, 1, 40)\n",
    "visualize_info_vs_phase(prob, phases, 1, 1)"
   ]
  },
  {
   "cell_type": "code",
   "execution_count": null,
   "metadata": {},
   "outputs": [],
   "source": [
    "plt.figure(2)\n",
    "phases = np.linspace(0, 1, 40)\n",
    "visualize_info_vs_phase(prob, phases, 2, 2)"
   ]
  },
  {
   "cell_type": "code",
   "execution_count": null,
   "metadata": {},
   "outputs": [],
   "source": [
    "fig, axs = plt.subplots(2, 3)\n",
    "fig.suptitle('Observer 2 Information Gain vs. Phase\\nat Fixed Observer 1 Phase')\n",
    "\n",
    "phases = np.linspace(0.0, 1.0, 40)\n",
    "\n",
    "fixed_phases = [0.0, 0.1, 0.3, 0.5, 0.7, 0.9]\n",
    "\n",
    "for i, ax in enumerate(axs.flatten()):\n",
    "    sols = np.zeros_like(phases)\n",
    "    \n",
    "    for j, phase in enumerate(phases):\n",
    "        sols[j] = prob.fitness( [fixed_phases[i], phase])[0]\n",
    "    \n",
    "    ax.set_xlabel(\"Phase\")\n",
    "    ax.set_ylabel(\"log(f)\")\n",
    "    ax.set_title(f\"Obs 1 Phase = {fixed_phases[i]}\")\n",
    "    ax.scatter(phases, np.log(-sols), color = \"blue\", marker='.', label=\"optimal info. gain\", s=2)\n",
    "\n",
    "    \n",
    "plt.tight_layout()\n",
    "plt.show()"
   ]
  },
  {
   "cell_type": "code",
   "execution_count": null,
   "metadata": {},
   "outputs": [],
   "source": [
    "\n",
    "# Define the function\n",
    "f = lambda x, y: np.log(-prob.fitness( [x, y])[0])\n",
    "\n",
    "# Generate data\n",
    "x = np.linspace(0, 0.1, 40)\n",
    "y = np.linspace(0, 0.1, 40)\n",
    "\n",
    "Z = np.zeros(shape=(y.size, x.size))\n",
    "\n",
    "# Evaluate the function at each point\n",
    "for i in range(len(x)):\n",
    "    for j in range(len(y)):\n",
    "        Z[j, i] = f(x[i], y[j])\n",
    "\n"
   ]
  },
  {
   "cell_type": "code",
   "execution_count": null,
   "metadata": {},
   "outputs": [],
   "source": [
    "plt.close(2)\n",
    "plt.figure(2)\n",
    "# Create contour plot\n",
    "plt.contourf(x, y, Z, cmap='viridis')\n",
    "\n",
    "# Add labels and title\n",
    "plt.colorbar(label =  \"log(f)\")\n",
    "plt.grid(True)\n",
    "plt.xlabel('Obs 1 Phase')\n",
    "plt.ylabel('Obs 2 Phase')\n",
    "plt.title('Contours of Information Gain')\n",
    "plt.show()"
   ]
  },
  {
   "cell_type": "code",
   "execution_count": null,
   "metadata": {},
   "outputs": [],
   "source": [
    "plt.close(3)\n",
    "plt.figure(3)\n",
    "plt.xlabel(\"Phase\")\n",
    "plt.ylabel(\"log(f)\")\n",
    "plt.title(\"Observer 2 Information Gain\")\n",
    "plt.scatter(np.linspace(0, 0.1, 40), Z[:, -1], color = \"blue\", marker='.', label=\"optimal\")\n",
    "plt.grid(True)\n",
    "plt.show()"
   ]
  },
  {
   "cell_type": "code",
   "execution_count": null,
   "metadata": {},
   "outputs": [],
   "source": [
    "ani= render(prob, [0.013, 0.0023], fig=3, control=None)"
   ]
  },
  {
   "cell_type": "code",
   "execution_count": null,
   "metadata": {},
   "outputs": [],
   "source": [
    "phases = np.linspace(0, 1, 40)\n",
    "sols = np.zeros_like(phases)\n",
    "\n",
    "for i, phase in enumerate(phases):\n",
    "    sols[i] = prob.fitness( [0.0, phase])[0]\n"
   ]
  },
  {
   "cell_type": "code",
   "execution_count": null,
   "metadata": {},
   "outputs": [],
   "source": [
    "# sub region of the original image\n",
    "x1, x2, y1, y2 = 0.0, 0.005, 24.86, 24.87\n",
    "\n",
    "\n",
    "zoomed_phases = np.linspace(x1, x2, 40)\n",
    "zoomed_info = np.log([-prob.fitness([0.0, phase])[0] for phase in zoomed_phases])"
   ]
  },
  {
   "cell_type": "code",
   "execution_count": null,
   "metadata": {},
   "outputs": [],
   "source": [
    "from mpl_toolkits.axes_grid1.inset_locator import zoomed_inset_axes\n",
    "from mpl_toolkits.axes_grid1.inset_locator import mark_inset\n",
    "\n",
    "plt.close(27)\n",
    "fig, ax = plt.subplots()\n",
    "\n",
    "ax.set_xlabel(\"Phase\")\n",
    "ax.set_ylabel(\"log(f)\")\n",
    "ax.set_title(\"Observer 2 Information Gain\\nwith Fixed Observer 1 Phase\")\n",
    "\n",
    "# extent = [-3, 4, -4, 3]\n",
    "ax.scatter(phases, np.log(-sols), color = \"blue\", marker='.', label=\"optimal\")\n",
    "ax.set_ylim(top=25)\n",
    "ax.axvline(0.0023, color=\"red\", linestyle=\"--\", linewidth=0.7)\n",
    "\n",
    "axins = zoomed_inset_axes(ax, 20, loc=9) # zoom = 6\n",
    "\n",
    "axins.set_xlim(x1, x2)\n",
    "axins.set_ylim(y1, y2)\n",
    "\n",
    "axins.scatter(zoomed_phases, zoomed_info, color = \"blue\", marker='.', s=2)\n",
    "axins.axvline(0.0023, color=\"red\", linestyle=\"--\", linewidth=0.7)\n",
    "\n",
    "axins.yaxis.tick_right()\n",
    "\n",
    "plt.xticks([0.0023])\n",
    "plt.yticks(visible=True)\n",
    "\n",
    "\n",
    "# draw a bbox of the region of the inset axes in the parent axes and\n",
    "# connecting lines between the bbox and the inset axes area\n",
    "mark_inset(ax, axins, loc1=2, loc2=3, fc=\"none\", ec=\"0.5\")\n",
    "\n",
    "plt.draw()\n",
    "plt.show()"
   ]
  }
 ],
 "metadata": {
  "kernelspec": {
   "display_name": "Python 3",
   "language": "python",
   "name": "python3"
  },
  "language_info": {
   "codemirror_mode": {
    "name": "ipython",
    "version": 3
   },
   "file_extension": ".py",
   "mimetype": "text/x-python",
   "name": "python",
   "nbconvert_exporter": "python",
   "pygments_lexer": "ipython3",
   "version": "3.11.6"
  }
 },
 "nbformat": 4,
 "nbformat_minor": 2
}
