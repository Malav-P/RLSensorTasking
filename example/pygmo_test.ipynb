{
 "cells": [
  {
   "cell_type": "markdown",
   "metadata": {},
   "source": [
    "This example aims to have two target orbits, and one observer orbit. The observer is tasked with monitoring the two targets to minimize the trace covariance of the state over the simulation horizon. We use a PPO agent that is rewarded for minimizing the trace covariance of the target states to the best of its ability."
   ]
  },
  {
   "cell_type": "code",
   "execution_count": 1,
   "metadata": {},
   "outputs": [],
   "source": [
    "%matplotlib widget\n",
    "import sys\n",
    "sys.path.append(\"../src\")\n",
    "\n",
    "import numpy as np\n",
    "import matplotlib.pyplot as plt\n",
    "import pygmo as pg\n",
    "\n",
    "from SensorTasking.compute_coefficients import SSA_Problem"
   ]
  },
  {
   "cell_type": "code",
   "execution_count": 2,
   "metadata": {},
   "outputs": [],
   "source": [
    "# L2 Halo orbit, period = 3.225 TU  (Target orbit)\n",
    "x0_1 = np.array([\n",
    "        1.1540242813087864,\n",
    "        0.0,\n",
    "        -0.1384196144071876,\n",
    "        4.06530060663289e-15,\n",
    "        -0.21493019200956867,\n",
    "        8.48098638414804e-15\n",
    "    ])\n",
    "\n",
    "# L1 lyapunov, period = 3.225 TU (target orbit)\n",
    "x0_2 = np.array([\n",
    "        0.8027692908754149,\n",
    "        0.0,\n",
    "        0.0,\n",
    "        -1.1309830924549648e-14,\n",
    "        0.33765564334938736,\n",
    "        0.0\n",
    "    ])\n",
    "\n",
    "\n",
    "# 1:1 L2 Lyapunov, period = 6.45 TU (observer orbit)\n",
    "x0_3 = np.array([\n",
    "        0.9982702689023665,\n",
    "        0.0,\n",
    "        0.0,\n",
    "        -2.5322340091977996e-14,\n",
    "        1.5325475708886613,\n",
    "        0.0\n",
    "    ])\n",
    "\n",
    "# 1:1 L1 Lyapunov, period = 6.45 TU (observer orbit)\n",
    "x0_4 = np.array([\n",
    "            0.65457084231188,\n",
    "        0.0,\n",
    "        0.0,\n",
    "        3.887957091335523e-13,\n",
    "        0.7413347560791179,\n",
    "        0.0\n",
    "])\n",
    "\n"
   ]
  },
  {
   "cell_type": "code",
   "execution_count": 3,
   "metadata": {},
   "outputs": [
    {
     "name": "stdout",
     "output_type": "stream",
     "text": [
      "Problem name: <class 'SensorTasking.compute_coefficients.SSA_Problem'>\n",
      "\tC++ class name: pybind11::object\n",
      "\n",
      "\tGlobal dimension:\t\t\t1\n",
      "\tInteger dimension:\t\t\t0\n",
      "\tFitness dimension:\t\t\t1\n",
      "\tNumber of objectives:\t\t\t1\n",
      "\tEquality constraints dimension:\t\t0\n",
      "\tInequality constraints dimension:\t0\n",
      "\tLower bounds: [0]\n",
      "\tUpper bounds: [1]\n",
      "\tHas batch fitness evaluation: false\n",
      "\n",
      "\tHas gradient: false\n",
      "\tUser implemented gradient sparsity: false\n",
      "\tHas hessians: false\n",
      "\tUser implemented hessians sparsity: false\n",
      "\n",
      "\tFitness evaluations: 0\n",
      "\n",
      "\tThread safety: none\n",
      "\n"
     ]
    }
   ],
   "source": [
    "p = SSA_Problem(target_ics=[x0_1, x0_2], target_periods=[3.225, 3.225], agent_ics=[x0_4], agent_periods=[6.45])\n",
    "prob = pg.problem(p)\n",
    "print(prob)"
   ]
  },
  {
   "cell_type": "code",
   "execution_count": 13,
   "metadata": {},
   "outputs": [
    {
     "name": "stdout",
     "output_type": "stream",
     "text": [
      "[0.01343477]\n"
     ]
    }
   ],
   "source": [
    "# algo = pg.algorithm(pg.sga(gen = 250))\n",
    "# algo.set_verbosity(50)\n",
    "# pop = pg.population(prob, 20)\n",
    "# pop = algo.evolve(pop) \n",
    "\n",
    "pop = pg.population(prob=prob)\n",
    "pop.push_back(np.array([0.7]))\n",
    "pop.push_back(np.array([0.6]))\n",
    "scp = pg.algorithm(pg.scipy_optimize(method=\"L-BFGS-B\"))\n",
    "result = scp.evolve(pop).champion_x\n",
    "print(result)"
   ]
  },
  {
   "cell_type": "code",
   "execution_count": 14,
   "metadata": {},
   "outputs": [
    {
     "data": {
      "text/plain": [
       "array([0.01343477])"
      ]
     },
     "execution_count": 14,
     "metadata": {},
     "output_type": "execute_result"
    }
   ],
   "source": [
    "pop.champion_x"
   ]
  }
 ],
 "metadata": {
  "kernelspec": {
   "display_name": "Python 3",
   "language": "python",
   "name": "python3"
  },
  "language_info": {
   "codemirror_mode": {
    "name": "ipython",
    "version": 3
   },
   "file_extension": ".py",
   "mimetype": "text/x-python",
   "name": "python",
   "nbconvert_exporter": "python",
   "pygments_lexer": "ipython3",
   "version": "3.11.6"
  }
 },
 "nbformat": 4,
 "nbformat_minor": 2
}
