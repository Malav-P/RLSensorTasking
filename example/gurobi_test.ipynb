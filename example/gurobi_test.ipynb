{
 "cells": [
  {
   "cell_type": "code",
   "execution_count": 1,
   "metadata": {},
   "outputs": [
    {
     "name": "stdout",
     "output_type": "stream",
     "text": [
      "Restricted license - for non-production use only - expires 2025-11-24\n",
      "Gurobi Optimizer version 11.0.0 build v11.0.0rc2 (mac64[arm] - Darwin 23.2.0 23C71)\n",
      "\n",
      "CPU model: Apple M1 Pro\n",
      "Thread count: 8 physical cores, 8 logical processors, using up to 8 threads\n",
      "\n",
      "Optimize a model with 46 rows, 64 columns and 256 nonzeros\n",
      "Model fingerprint: 0xf9127510\n",
      "Variable types: 0 continuous, 64 integer (64 binary)\n",
      "Coefficient statistics:\n",
      "  Matrix range     [1e+00, 1e+00]\n",
      "  Objective range  [1e+00, 1e+00]\n",
      "  Bounds range     [1e+00, 1e+00]\n",
      "  RHS range        [1e+00, 1e+00]\n",
      "Found heuristic solution: objective 5.0000000\n",
      "Presolve removed 4 rows and 0 columns\n",
      "Presolve time: 0.00s\n",
      "Presolved: 42 rows, 64 columns, 270 nonzeros\n",
      "Variable types: 0 continuous, 64 integer (64 binary)\n",
      "\n",
      "Root relaxation: objective 8.000000e+00, 27 iterations, 0.00 seconds (0.00 work units)\n",
      "\n",
      "    Nodes    |    Current Node    |     Objective Bounds      |     Work\n",
      " Expl Unexpl |  Obj  Depth IntInf | Incumbent    BestBd   Gap | It/Node Time\n",
      "\n",
      "H    0     0                       8.0000000   64.00000   700%     -    0s\n",
      "     0     0          -    0         8.00000    8.00000  0.00%     -    0s\n",
      "\n",
      "Explored 1 nodes (82 simplex iterations) in 0.01 seconds (0.00 work units)\n",
      "Thread count was 8 (of 8 available processors)\n",
      "\n",
      "Solution count 2: 8 5 \n",
      "\n",
      "Optimal solution found (tolerance 1.00e-04)\n",
      "Best objective 8.000000000000e+00, best bound 8.000000000000e+00, gap 0.0000%\n",
      "[[0. 0. 0. 0. 1. 0. 0. 0.]\n",
      " [0. 0. 1. 0. 0. 0. 0. 0.]\n",
      " [0. 0. 0. 0. 0. 0. 0. 1.]\n",
      " [0. 0. 0. 1. 0. 0. 0. 0.]\n",
      " [0. 0. 0. 0. 0. 0. 1. 0.]\n",
      " [1. 0. 0. 0. 0. 0. 0. 0.]\n",
      " [0. 0. 0. 0. 0. 1. 0. 0.]\n",
      " [0. 1. 0. 0. 0. 0. 0. 0.]]\n",
      "Queens placed: 8\n"
     ]
    }
   ],
   "source": [
    "import numpy as np\n",
    "import gurobipy as gp\n",
    "from gurobipy import GRB\n",
    "\n",
    "n = 8\n",
    "\n",
    "m = gp.Model(\"nqueens\")\n",
    "\n",
    "# n-by-n binary variables; x[i, j] decides whether a queen is placed at\n",
    "# position (i, j)\n",
    "x = m.addMVar((n, n), vtype=GRB.BINARY, name=\"x\")\n",
    "\n",
    "obj = np.ones(n*n)\n",
    "\n",
    "# Maximize the number of placed queens\n",
    "m.setObjective(x.reshape(-1) @ obj, GRB.MAXIMIZE)\n",
    "\n",
    "# At most one queen per row; this adds n linear constraints\n",
    "m.addConstr(x.sum(axis=1) <= 1, name=\"row\")\n",
    "\n",
    "# At most one queen per column; this adds n linear constraints\n",
    "m.addConstr(x.sum(axis=0) <= 1, name=\"col\")\n",
    "\n",
    "for i in range(-n + 1, n):\n",
    "    # At most one queen on diagonal i\n",
    "    m.addConstr(x.diagonal(i).sum() <= 1, name=f\"diag{i:d}\")\n",
    "\n",
    "    # At most one queen on anti-diagonal i\n",
    "    m.addConstr(x[:, ::-1].diagonal(i).sum() <= 1, name=f\"adiag{i:d}\")\n",
    "\n",
    "# Solve the problem\n",
    "m.optimize()\n",
    "\n",
    "print(x.X)\n",
    "print(f\"Queens placed: {m.ObjVal:.0f}\")\n"
   ]
  },
  {
   "cell_type": "code",
   "execution_count": null,
   "metadata": {},
   "outputs": [],
   "source": []
  }
 ],
 "metadata": {
  "kernelspec": {
   "display_name": "Python 3",
   "language": "python",
   "name": "python3"
  },
  "language_info": {
   "codemirror_mode": {
    "name": "ipython",
    "version": 3
   },
   "file_extension": ".py",
   "mimetype": "text/x-python",
   "name": "python",
   "nbconvert_exporter": "python",
   "pygments_lexer": "ipython3",
   "version": "3.11.6"
  }
 },
 "nbformat": 4,
 "nbformat_minor": 2
}
