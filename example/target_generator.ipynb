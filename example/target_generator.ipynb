{
 "cells": [
  {
   "cell_type": "code",
   "execution_count": 1,
   "metadata": {},
   "outputs": [],
   "source": [
    "import sys\n",
    "sys.path.append(\"../src\")\n",
    "\n",
    "import numpy as np\n",
    "import matplotlib.pyplot as plt\n",
    "\n",
    "from data_util.target_generation import TargetGenerator"
   ]
  },
  {
   "cell_type": "code",
   "execution_count": 2,
   "metadata": {},
   "outputs": [],
   "source": [
    "x0_1 = np.array([\n",
    "        1.1540242813087864,\n",
    "        0.0,\n",
    "        -0.1384196144071876,\n",
    "        4.06530060663289e-15,\n",
    "        -0.21493019200956867,\n",
    "        8.48098638414804e-15\n",
    "    ])\n",
    "\n",
    "x0_2 = np.array([\n",
    "        0.8027692908754149,\n",
    "        0.0,\n",
    "        0.0,\n",
    "        -1.1309830924549648e-14,\n",
    "        0.33765564334938736,\n",
    "        0.0\n",
    "    ])\n",
    "\n",
    "X = [x0_1, x0_2]\n",
    "periods = [3.225, 3.225]\n",
    "\n",
    "tg = TargetGenerator(X, periods)"
   ]
  },
  {
   "cell_type": "code",
   "execution_count": 3,
   "metadata": {},
   "outputs": [
    {
     "data": {
      "text/plain": [
       "array([{'state': array([ 1.15402428e+00,  0.00000000e+00, -1.38419614e-01,  4.06530061e-15,\n",
       "              -2.14930192e-01,  8.48098638e-15]), 'covariance': array([[0.001, 0.   , 0.   , 0.   , 0.   , 0.   ],\n",
       "              [0.   , 0.001, 0.   , 0.   , 0.   , 0.   ],\n",
       "              [0.   , 0.   , 0.001, 0.   , 0.   , 0.   ],\n",
       "              [0.   , 0.   , 0.   , 0.001, 0.   , 0.   ],\n",
       "              [0.   , 0.   , 0.   , 0.   , 0.001, 0.   ],\n",
       "              [0.   , 0.   , 0.   , 0.   , 0.   , 0.001]]), 'f': <function cr3bp at 0x131f240e0>, 'jac': <function jac_cr3bp at 0x131f242c0>, 'f_params': (0.01215058560962404,), 'jac_params': (0.01215058560962404,)},\n",
       "       {'state': array([ 8.02769291e-01,  0.00000000e+00,  0.00000000e+00, -1.13098309e-14,\n",
       "               3.37655643e-01,  0.00000000e+00]), 'covariance': array([[0.001, 0.   , 0.   , 0.   , 0.   , 0.   ],\n",
       "              [0.   , 0.001, 0.   , 0.   , 0.   , 0.   ],\n",
       "              [0.   , 0.   , 0.001, 0.   , 0.   , 0.   ],\n",
       "              [0.   , 0.   , 0.   , 0.001, 0.   , 0.   ],\n",
       "              [0.   , 0.   , 0.   , 0.   , 0.001, 0.   ],\n",
       "              [0.   , 0.   , 0.   , 0.   , 0.   , 0.001]]), 'f': <function cr3bp at 0x131f240e0>, 'jac': <function jac_cr3bp at 0x131f242c0>, 'f_params': (0.01215058560962404,), 'jac_params': (0.01215058560962404,)}],\n",
       "      dtype=object)"
      ]
     },
     "execution_count": 3,
     "metadata": {},
     "output_type": "execute_result"
    }
   ],
   "source": [
    "tg.gen_phased_ics(num_targets=1)"
   ]
  },
  {
   "cell_type": "code",
   "execution_count": null,
   "metadata": {},
   "outputs": [],
   "source": []
  }
 ],
 "metadata": {
  "kernelspec": {
   "display_name": "Python 3",
   "language": "python",
   "name": "python3"
  },
  "language_info": {
   "codemirror_mode": {
    "name": "ipython",
    "version": 3
   },
   "file_extension": ".py",
   "mimetype": "text/x-python",
   "name": "python",
   "nbconvert_exporter": "python",
   "pygments_lexer": "ipython3",
   "version": "3.11.6"
  }
 },
 "nbformat": 4,
 "nbformat_minor": 2
}
