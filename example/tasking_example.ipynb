{
 "cells": [
  {
   "cell_type": "markdown",
   "metadata": {},
   "source": [
    "This example aims to have two target orbits, and one observer orbit. The observer is tasked with monitoring the two targets to minimize the trace covariance of the state over the simulation horizon. We use a PPO agent that is rewarded for minimizing the trace covariance of the target states to the best of its ability."
   ]
  },
  {
   "cell_type": "code",
   "execution_count": 1,
   "metadata": {},
   "outputs": [],
   "source": [
    "import sys\n",
    "sys.path.append(\"../src\")\n",
    "\n",
    "import os\n",
    "import numpy as np\n",
    "import matplotlib.pyplot as plt\n",
    "\n",
    "from SensorTasking import SpaceEnv\n",
    "from SensorTasking import RewardCallback\n",
    "\n",
    "from cr3bp import cr3bp, jac_cr3bp\n",
    "\n",
    "# from sb3_contrib import MaskablePPO\n",
    "# from sb3_contrib.common.wrappers import ActionMasker\n",
    "\n",
    "from stable_baselines3 import PPO\n",
    "\n",
    "from stable_baselines3.common.env_checker import check_env\n",
    "from stable_baselines3.common.monitor import Monitor\n",
    "from stable_baselines3.common import results_plotter"
   ]
  },
  {
   "cell_type": "code",
   "execution_count": 2,
   "metadata": {},
   "outputs": [],
   "source": [
    "# mass parameter of earth-moon system\n",
    "mu = 1.215058560962404e-02\n",
    "\n",
    "# L2 Halo orbit, period = 3.225 TU  (Target orbit)\n",
    "x0_1 = np.array([\n",
    "        1.1540242813087864,\n",
    "        0.0,\n",
    "        -0.1384196144071876,\n",
    "        4.06530060663289e-15,\n",
    "        -0.21493019200956867,\n",
    "        8.48098638414804e-15\n",
    "    ])\n",
    "\n",
    "# target 1 initial covariance\n",
    "P0_1 = 0.001*np.eye(6)\n",
    "\n",
    "target1 = {\"state\" : x0_1,\n",
    "           \"covariance\" : P0_1,\n",
    "           \"f\": cr3bp,\n",
    "           \"jac\" : jac_cr3bp,\n",
    "           \"f_params\": (mu,),\n",
    "           \"jac_params\" : (mu,)}\n",
    "\n",
    "# L1 lyapunov, period = 3.225 TU (target orbit)\n",
    "x0_2 = np.array([\n",
    "        0.8027692908754149,\n",
    "        0.0,\n",
    "        0.0,\n",
    "        -1.1309830924549648e-14,\n",
    "        0.33765564334938736,\n",
    "        0.0\n",
    "    ])\n",
    "# target 2 initial covariance\n",
    "P0_2 = 0.001*np.eye(6)\n",
    "\n",
    "target2 = {\"state\" : x0_2,\n",
    "           \"covariance\" : P0_2,\n",
    "           \"f\": cr3bp,\n",
    "           \"jac\" : jac_cr3bp,\n",
    "           \"f_params\": (mu,),\n",
    "           \"jac_params\" : (mu,)}\n",
    "\n",
    "# 1:1 L2 Lyapunov, period = 6.45 TU (observer orbit)\n",
    "x0_3 = np.array([\n",
    "        0.9982702689023665,\n",
    "        0.0,\n",
    "        0.0,\n",
    "        -2.5322340091977996e-14,\n",
    "        1.5325475708886613,\n",
    "        0.0\n",
    "    ])\n",
    "\n",
    "agent1 =  {\"state\" : x0_3,\n",
    "           \"covariance\" : None,\n",
    "           \"f\": cr3bp,\n",
    "           \"jac\" : jac_cr3bp,\n",
    "           \"f_params\": (mu,),\n",
    "           \"jac_params\" : (mu,)}\n",
    "\n"
   ]
  },
  {
   "cell_type": "code",
   "execution_count": 3,
   "metadata": {},
   "outputs": [],
   "source": [
    "log_dir = \"/Users/malavpatel/Research/SensorTasking/tmp/gym/\"\n",
    "os.makedirs(log_dir, exist_ok=True)"
   ]
  },
  {
   "cell_type": "code",
   "execution_count": 4,
   "metadata": {},
   "outputs": [],
   "source": [
    "targets = np.array([target1, target2])\n",
    "agents = np.array([agent1])\n",
    "metric = None\n",
    "maxsteps = 430\n",
    "tstep = 0.015\n",
    "\n",
    "env = SpaceEnv(agents, targets, metric, maxsteps, tstep)\n",
    "env = Monitor(env, log_dir)\n",
    "\n",
    "check_env(env)"
   ]
  },
  {
   "cell_type": "code",
   "execution_count": 5,
   "metadata": {},
   "outputs": [],
   "source": [
    "callback = RewardCallback(check_freq=50, log_dir=log_dir, verbose=0)"
   ]
  },
  {
   "cell_type": "code",
   "execution_count": 6,
   "metadata": {},
   "outputs": [
    {
     "data": {
      "text/plain": [
       "<stable_baselines3.ppo.ppo.PPO at 0x15f72cb10>"
      ]
     },
     "execution_count": 6,
     "metadata": {},
     "output_type": "execute_result"
    }
   ],
   "source": [
    "model = PPO(\"MlpPolicy\", env, gamma=0.4, seed=32, verbose=0)\n",
    "model.learn(total_timesteps=int(2e4), callback=[callback])"
   ]
  },
  {
   "cell_type": "code",
   "execution_count": 7,
   "metadata": {},
   "outputs": [
    {
     "data": {
      "image/png": "[encoded data removed]",
      "text/plain": [
       "<Figure size 800x200 with 1 Axes>"
      ]
     },
     "metadata": {},
     "output_type": "display_data"
    }
   ],
   "source": [
    "results_plotter.plot_results(\n",
    "    [log_dir], 1e5, results_plotter.X_TIMESTEPS, \"Orbiting Agent\"\n",
    ")"
   ]
  }
 ],
 "metadata": {
  "kernelspec": {
   "display_name": "Python 3",
   "language": "python",
   "name": "python3"
  },
  "language_info": {
   "codemirror_mode": {
    "name": "ipython",
    "version": 3
   },
   "file_extension": ".py",
   "mimetype": "text/x-python",
   "name": "python",
   "nbconvert_exporter": "python",
   "pygments_lexer": "ipython3",
   "version": "3.11.6"
  }
 },
 "nbformat": 4,
 "nbformat_minor": 2
}
