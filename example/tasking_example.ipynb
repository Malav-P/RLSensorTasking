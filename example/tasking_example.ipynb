{
 "cells": [
  {
   "cell_type": "markdown",
   "metadata": {},
   "source": [
    "This example aims to have two target orbits, and one observer orbit. The observer is tasked with monitoring the two targets to minimize the trace covariance of the state over the simulation horizon. We use a PPO agent that is rewarded for minimizing the trace covariance of the target states to the best of its ability."
   ]
  },
  {
   "cell_type": "code",
   "execution_count": 1,
   "metadata": {},
   "outputs": [],
   "source": [
    "import sys\n",
    "sys.path.append(\"../src\")\n",
    "\n",
    "import os\n",
    "import numpy as np\n",
    "from torch import tensor\n",
    "import matplotlib.pyplot as plt\n",
    "\n",
    "from SensorTasking import SpaceEnv\n",
    "from SensorTasking import DummyModel\n",
    "from SensorTasking import Type1, Type2\n",
    "from SensorTasking import run_myopic_policy\n",
    "\n",
    "from data_util.cr3bp import cr3bp, jac_cr3bp\n",
    "\n",
    "from gymnasium.wrappers import FlattenObservation\n",
    "\n",
    "from stable_baselines3 import PPO\n",
    "\n",
    "from stable_baselines3.common.env_checker import check_env\n",
    "from stable_baselines3.common.monitor import Monitor\n",
    "from stable_baselines3.common import results_plotter\n",
    "from stable_baselines3.common.evaluation import evaluate_policy\n",
    "from stable_baselines3.common.callbacks import EvalCallback"
   ]
  },
  {
   "cell_type": "code",
   "execution_count": 2,
   "metadata": {},
   "outputs": [],
   "source": [
    "# mass parameter of earth-moon system\n",
    "mu = 1.215058560962404e-02\n",
    "\n",
    "# L2 Halo orbit, period = 3.225 TU  (Target orbit)\n",
    "x0_1 = np.array([\n",
    "        1.1540242813087864,\n",
    "        0.0,\n",
    "        -0.1384196144071876,\n",
    "        4.06530060663289e-15,\n",
    "        -0.21493019200956867,\n",
    "        8.48098638414804e-15\n",
    "    ])\n",
    "\n",
    "# target 1 initial covariance\n",
    "P0_1 = 0.001*np.eye(6)\n",
    "\n",
    "target1 = {\"state\" : x0_1,\n",
    "           \"covariance\" : P0_1,\n",
    "           \"f\": cr3bp,\n",
    "           \"jac\" : jac_cr3bp,\n",
    "           \"f_params\": (mu,),\n",
    "           \"jac_params\" : (mu,)}\n",
    "\n",
    "# L1 lyapunov, period = 3.225 TU (target orbit)\n",
    "x0_2 = np.array([\n",
    "        0.8027692908754149,\n",
    "        0.0,\n",
    "        0.0,\n",
    "        -1.1309830924549648e-14,\n",
    "        0.33765564334938736,\n",
    "        0.0\n",
    "    ])\n",
    "# target 2 initial covariance\n",
    "P0_2 = 0.001*np.eye(6)\n",
    "\n",
    "target2 = {\"state\" : x0_2,\n",
    "           \"covariance\" : P0_2,\n",
    "           \"f\": cr3bp,\n",
    "           \"jac\" : jac_cr3bp,\n",
    "           \"f_params\": (mu,),\n",
    "           \"jac_params\" : (mu,)}\n",
    "\n",
    "# 1:1 L2 Lyapunov, period = 6.45 TU (observer orbit)\n",
    "x0_3 = np.array([\n",
    "        0.9982702689023665,\n",
    "        0.0,\n",
    "        0.0,\n",
    "        -2.5322340091977996e-14,\n",
    "        1.5325475708886613,\n",
    "        0.0\n",
    "    ])\n",
    "\n",
    "agent1 =  {\"state\" : x0_3,\n",
    "           \"covariance\" : None,\n",
    "           \"f\": cr3bp,\n",
    "           \"jac\" : jac_cr3bp,\n",
    "           \"f_params\": (mu,),\n",
    "           \"jac_params\" : (mu,)}\n",
    "\n"
   ]
  },
  {
   "cell_type": "code",
   "execution_count": 3,
   "metadata": {},
   "outputs": [],
   "source": [
    "log_dir = \"/Users/malavpatel/Research/SensorTasking/tmp/gym/\"\n",
    "os.makedirs(log_dir, exist_ok=True)"
   ]
  },
  {
   "cell_type": "code",
   "execution_count": 4,
   "metadata": {},
   "outputs": [],
   "source": [
    "targets = np.array([target2, target1])\n",
    "agents = np.array([agent1])\n",
    "obs_model = DummyModel()\n",
    "maxsteps = 430\n",
    "tstep = 0.015\n",
    "obs_class = Type2()\n",
    "policytype = \"MlpPolicy\"\n",
    "\n",
    "env = SpaceEnv(agents, targets, obs_model, maxsteps, tstep, obs_class=obs_class)\n",
    "env = Monitor(env, log_dir, info_keywords=(\"target1_cov\", \"target2_cov\"))\n",
    "\n",
    "check_env(env)"
   ]
  },
  {
   "cell_type": "code",
   "execution_count": 5,
   "metadata": {},
   "outputs": [],
   "source": [
    "# run_myopic_policy(env)"
   ]
  },
  {
   "cell_type": "code",
   "execution_count": 6,
   "metadata": {},
   "outputs": [
    {
     "data": {
      "image/png": "[encoded data removed]",
      "text/plain": [
       "<Figure size 800x200 with 1 Axes>"
      ]
     },
     "metadata": {},
     "output_type": "display_data"
    }
   ],
   "source": [
    "model = PPO(policytype, env, gamma=0.7, seed=32, verbose=0)\n",
    "model.learn(total_timesteps=int(3.0e4))\n",
    "results_plotter.plot_results(\n",
    "    [log_dir], 1e5, results_plotter.X_TIMESTEPS, \"Orbiting Agent\"\n",
    ")"
   ]
  },
  {
   "cell_type": "code",
   "execution_count": 1,
   "metadata": {},
   "outputs": [
    {
     "ename": "NameError",
     "evalue": "name 'evaluate_policy' is not defined",
     "output_type": "error",
     "traceback": [
      "\u001b[0;31m---------------------------------------------------------------------------\u001b[0m",
      "\u001b[0;31mNameError\u001b[0m                                 Traceback (most recent call last)",
      "Cell \u001b[0;32mIn[1], line 14\u001b[0m\n\u001b[1;32m      6\u001b[0m         tar1cov\u001b[38;5;241m.\u001b[39mappend(np\u001b[38;5;241m.\u001b[39mtrace(model\u001b[38;5;241m.\u001b[39mget_env()\u001b[38;5;241m.\u001b[39mkalman_objects[\u001b[38;5;241m0\u001b[39m]\u001b[38;5;241m.\u001b[39mPa))\n\u001b[1;32m      7\u001b[0m         \u001b[38;5;66;03m# model = locals[\"model\"]\u001b[39;00m\n\u001b[1;32m      8\u001b[0m         \n\u001b[1;32m      9\u001b[0m         \u001b[38;5;66;03m# obs = tensor([model.get_env().env_method(\"get_observation\")[0]])\u001b[39;00m\n\u001b[1;32m     10\u001b[0m         \u001b[38;5;66;03m# logprobs = model.policy.evaluate_actions(obs, tensor([[0], [1], [2]]))[1].data\u001b[39;00m\n\u001b[1;32m     11\u001b[0m \n\u001b[1;32m     12\u001b[0m         \u001b[38;5;66;03m# print(logprobs)\u001b[39;00m\n\u001b[0;32m---> 14\u001b[0m \u001b[43mevaluate_policy\u001b[49m(model, env, deterministic\u001b[38;5;241m=\u001b[39m\u001b[38;5;28;01mFalse\u001b[39;00m, return_episode_rewards\u001b[38;5;241m=\u001b[39m\u001b[38;5;28;01mTrue\u001b[39;00m, n_eval_episodes\u001b[38;5;241m=\u001b[39m\u001b[38;5;241m1\u001b[39m, callback\u001b[38;5;241m=\u001b[39mactlogprob)\n",
      "\u001b[0;31mNameError\u001b[0m: name 'evaluate_policy' is not defined"
     ]
    }
   ],
   "source": [
    "tar1cov = []\n",
    "tar2cov = []\n",
    "def actlogprob(locals, globals):\n",
    "    \n",
    "        model = locals[\"model\"]\n",
    "        tar1cov.append(np.trace(model.get_env().kalman_objects[0].Pa))\n",
    "        # model = locals[\"model\"]\n",
    "        \n",
    "        # obs = tensor([model.get_env().env_method(\"get_observation\")[0]])\n",
    "        # logprobs = model.policy.evaluate_actions(obs, tensor([[0], [1], [2]]))[1].data\n",
    "\n",
    "        # print(logprobs)\n",
    "\n",
    "evaluate_policy(model, env, deterministic=False, return_episode_rewards=True, n_eval_episodes=1, callback=actlogprob)"
   ]
  },
  {
   "cell_type": "code",
   "execution_count": null,
   "metadata": {},
   "outputs": [],
   "source": []
  }
 ],
 "metadata": {
  "kernelspec": {
   "display_name": "Python 3",
   "language": "python",
   "name": "python3"
  },
  "language_info": {
   "codemirror_mode": {
    "name": "ipython",
    "version": 3
   },
   "file_extension": ".py",
   "mimetype": "text/x-python",
   "name": "python",
   "nbconvert_exporter": "python",
   "pygments_lexer": "ipython3",
   "version": "3.11.6"
  }
 },
 "nbformat": 4,
 "nbformat_minor": 2
}
