{
 "cells": [
  {
   "cell_type": "markdown",
   "metadata": {},
   "source": [
    "This example aims to have two target orbits, and one observer orbit. The observer is tasked with monitoring the two targets to minimize the trace covariance of the state over the simulation horizon. We use a PPO agent that is rewarded for minimizing the trace covariance of the target states to the best of its ability."
   ]
  },
  {
   "cell_type": "code",
   "execution_count": 1,
   "metadata": {},
   "outputs": [],
   "source": [
    "%matplotlib widget\n",
    "import sys\n",
    "sys.path.append(\"../src\")\n",
    "\n",
    "import numpy as np\n",
    "import matplotlib.pyplot as plt\n",
    "\n",
    "from SensorTasking import greedy_search"
   ]
  },
  {
   "cell_type": "code",
   "execution_count": 2,
   "metadata": {},
   "outputs": [],
   "source": [
    "# L2 Halo orbit, period = 3.225 TU  (Target orbit)\n",
    "x0_1 = np.array([\n",
    "        1.1540242813087864,\n",
    "        0.0,\n",
    "        -0.1384196144071876,\n",
    "        4.06530060663289e-15,\n",
    "        -0.21493019200956867,\n",
    "        8.48098638414804e-15\n",
    "    ])\n",
    "\n",
    "# L1 lyapunov, period = 3.225 TU (target orbit)\n",
    "x0_2 = np.array([\n",
    "        0.8027692908754149,\n",
    "        0.0,\n",
    "        0.0,\n",
    "        -1.1309830924549648e-14,\n",
    "        0.33765564334938736,\n",
    "        0.0\n",
    "    ])\n",
    "\n",
    "\n",
    "# 1:1 L2 Lyapunov, period = 6.45 TU (observer orbit)\n",
    "x0_3 = np.array([\n",
    "        0.9982702689023665,\n",
    "        0.0,\n",
    "        0.0,\n",
    "        -2.5322340091977996e-14,\n",
    "        1.5325475708886613,\n",
    "        0.0\n",
    "    ])\n",
    "\n",
    "# 1:1 L1 Lyapunov, period = 6.45 TU (observer orbit)\n",
    "x0_4 = np.array([\n",
    "            0.65457084231188,\n",
    "        0.0,\n",
    "        0.0,\n",
    "        3.887957091335523e-13,\n",
    "        0.7413347560791179,\n",
    "        0.0\n",
    "])\n",
    "\n",
    "\n",
    "# 2:1 Resonant, period = 6.45 TU\n",
    "x0_5 = np.array([\n",
    "        0.9519486347314083,\n",
    "        0.0,\n",
    "        0.0,\n",
    "        0.0,\n",
    "        -0.952445273435512,\n",
    "        0.0\n",
    "    ])\n",
    "\n",
    "# 3:1 Resonant, period = 6.45 TY\n",
    "x0_6 = np.array([\n",
    "        0.13603399956670137,\n",
    "        0.0,\n",
    "        0.0,\n",
    "        1.9130717669166003e-12,\n",
    "        3.202418276067991,\n",
    "        0.0\n",
    "    ])\n",
    "\n"
   ]
  },
  {
   "cell_type": "code",
   "execution_count": 3,
   "metadata": {},
   "outputs": [],
   "source": [
    "Y = np.array([x0_1, x0_2])\n",
    "Y_periods = np.array([3.225, 3.225])\n",
    "\n",
    "X = np.array([x0_4, x0_5])\n",
    "X_periods = np.array([6.45, 6.45])"
   ]
  },
  {
   "cell_type": "code",
   "execution_count": 4,
   "metadata": {},
   "outputs": [
    {
     "name": "stdout",
     "output_type": "stream",
     "text": [
      "Initializing Problem...\n",
      "\n",
      "Beginning Optimization...\n",
      "\n"
     ]
    },
    {
     "ename": "TypeError",
     "evalue": "SpaceEnv.reset_new_agents() got an unexpected keyword argument 'agents'",
     "output_type": "error",
     "traceback": [
      "\u001b[0;31m---------------------------------------------------------------------------\u001b[0m",
      "\u001b[0;31mTypeError\u001b[0m                                 Traceback (most recent call last)",
      "Cell \u001b[0;32mIn[4], line 1\u001b[0m\n\u001b[0;32m----> 1\u001b[0m \u001b[43mgreedy_search\u001b[49m\u001b[43m(\u001b[49m\u001b[43mY\u001b[49m\u001b[43m,\u001b[49m\u001b[43m \u001b[49m\u001b[43mY_periods\u001b[49m\u001b[43m,\u001b[49m\u001b[43m \u001b[49m\u001b[43mX\u001b[49m\u001b[43m,\u001b[49m\u001b[43m \u001b[49m\u001b[43mX_periods\u001b[49m\u001b[43m,\u001b[49m\u001b[43m \u001b[49m\u001b[43minit_phase_guess\u001b[49m\u001b[38;5;241;43m=\u001b[39;49m\u001b[38;5;241;43m0.01\u001b[39;49m\u001b[43m)\u001b[49m\n",
      "File \u001b[0;32m~/Research/SensorTasking/example/../src/SensorTasking/greedy_search.py:37\u001b[0m, in \u001b[0;36mgreedy_search\u001b[0;34m(Y, Y_periods, X, X_periods, init_phase_guess)\u001b[0m\n\u001b[1;32m     35\u001b[0m pg_problem \u001b[38;5;241m=\u001b[39m pg\u001b[38;5;241m.\u001b[39mproblem(p)\n\u001b[1;32m     36\u001b[0m pop \u001b[38;5;241m=\u001b[39m pg\u001b[38;5;241m.\u001b[39mpopulation(prob\u001b[38;5;241m=\u001b[39mpg_problem)\n\u001b[0;32m---> 37\u001b[0m \u001b[43mpop\u001b[49m\u001b[38;5;241;43m.\u001b[39;49m\u001b[43mpush_back\u001b[49m\u001b[43m(\u001b[49m\u001b[43mnp\u001b[49m\u001b[38;5;241;43m.\u001b[39;49m\u001b[43marray\u001b[49m\u001b[43m(\u001b[49m\u001b[43m[\u001b[49m\u001b[43minit_phase_guess\u001b[49m\u001b[43m]\u001b[49m\u001b[43m)\u001b[49m\u001b[43m)\u001b[49m\n\u001b[1;32m     38\u001b[0m scp \u001b[38;5;241m=\u001b[39m pg\u001b[38;5;241m.\u001b[39malgorithm(pg\u001b[38;5;241m.\u001b[39mscipy_optimize(method\u001b[38;5;241m=\u001b[39m\u001b[38;5;124m\"\u001b[39m\u001b[38;5;124mL-BFGS-B\u001b[39m\u001b[38;5;124m\"\u001b[39m))\n\u001b[1;32m     40\u001b[0m \u001b[38;5;66;03m# Optimize phase of first observer\u001b[39;00m\n",
      "File \u001b[0;32m~/Research/SensorTasking/example/../src/SensorTasking/ssa_problem.py:94\u001b[0m, in \u001b[0;36mGreedy_SSA_Problem.fitness\u001b[0;34m(self, x)\u001b[0m\n\u001b[1;32m     90\u001b[0m \u001b[38;5;28;01mdef\u001b[39;00m \u001b[38;5;21mfitness\u001b[39m(\u001b[38;5;28mself\u001b[39m, x):\n\u001b[1;32m     92\u001b[0m     phase \u001b[38;5;241m=\u001b[39m np\u001b[38;5;241m.\u001b[39mhstack((\u001b[38;5;28mself\u001b[39m\u001b[38;5;241m.\u001b[39mopt_phases, x))\n\u001b[0;32m---> 94\u001b[0m     \u001b[38;5;28;01mreturn\u001b[39;00m \u001b[38;5;28;43msuper\u001b[39;49m\u001b[43m(\u001b[49m\u001b[43m)\u001b[49m\u001b[38;5;241;43m.\u001b[39;49m\u001b[43mfitness\u001b[49m\u001b[43m(\u001b[49m\u001b[43mphase\u001b[49m\u001b[43m)\u001b[49m\n",
      "File \u001b[0;32m~/Research/SensorTasking/example/../src/SensorTasking/ssa_problem.py:35\u001b[0m, in \u001b[0;36mSSA_Problem.fitness\u001b[0;34m(self, x)\u001b[0m\n\u001b[1;32m     33\u001b[0m \u001b[38;5;28;01mdef\u001b[39;00m \u001b[38;5;21mfitness\u001b[39m(\u001b[38;5;28mself\u001b[39m, x):\n\u001b[0;32m---> 35\u001b[0m     \u001b[38;5;28;43mself\u001b[39;49m\u001b[38;5;241;43m.\u001b[39;49m\u001b[43m_gen_env\u001b[49m\u001b[43m(\u001b[49m\u001b[43mx\u001b[49m\u001b[43m)\u001b[49m\n\u001b[1;32m     36\u001b[0m     information \u001b[38;5;241m=\u001b[39m compute_coefficients(\u001b[38;5;28mself\u001b[39m\u001b[38;5;241m.\u001b[39menv)\n\u001b[1;32m     37\u001b[0m     control, objective \u001b[38;5;241m=\u001b[39m solve_model(information)\n",
      "File \u001b[0;32m~/Research/SensorTasking/example/../src/SensorTasking/ssa_problem.py:75\u001b[0m, in \u001b[0;36mSSA_Problem._gen_env\u001b[0;34m(self, x)\u001b[0m\n\u001b[1;32m     73\u001b[0m \u001b[38;5;28;01mdef\u001b[39;00m \u001b[38;5;21m_gen_env\u001b[39m(\u001b[38;5;28mself\u001b[39m, x):\n\u001b[1;32m     74\u001b[0m     agents \u001b[38;5;241m=\u001b[39m \u001b[38;5;28mself\u001b[39m\u001b[38;5;241m.\u001b[39mag\u001b[38;5;241m.\u001b[39mgen_phased_ics_from(x)\n\u001b[0;32m---> 75\u001b[0m     \u001b[38;5;28;43mself\u001b[39;49m\u001b[38;5;241;43m.\u001b[39;49m\u001b[43menv\u001b[49m\u001b[38;5;241;43m.\u001b[39;49m\u001b[43mreset_new_agents\u001b[49m\u001b[43m(\u001b[49m\u001b[43magents\u001b[49m\u001b[38;5;241;43m=\u001b[39;49m\u001b[43magents\u001b[49m\u001b[43m)\u001b[49m\n\u001b[1;32m     77\u001b[0m     \u001b[38;5;28;01mreturn\u001b[39;00m\n",
      "\u001b[0;31mTypeError\u001b[0m: SpaceEnv.reset_new_agents() got an unexpected keyword argument 'agents'"
     ]
    }
   ],
   "source": [
    "greedy_search(Y, Y_periods, X, X_periods, init_phase_guess=0.01)"
   ]
  },
  {
   "cell_type": "code",
   "execution_count": null,
   "metadata": {},
   "outputs": [],
   "source": []
  }
 ],
 "metadata": {
  "kernelspec": {
   "display_name": "Python 3",
   "language": "python",
   "name": "python3"
  },
  "language_info": {
   "codemirror_mode": {
    "name": "ipython",
    "version": 3
   },
   "file_extension": ".py",
   "mimetype": "text/x-python",
   "name": "python",
   "nbconvert_exporter": "python",
   "pygments_lexer": "ipython3",
   "version": "3.11.6"
  }
 },
 "nbformat": 4,
 "nbformat_minor": 2
}
